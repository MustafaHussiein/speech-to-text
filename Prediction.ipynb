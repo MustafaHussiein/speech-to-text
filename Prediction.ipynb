{
 "cells": [
  {
   "cell_type": "code",
   "execution_count": 1,
   "metadata": {},
   "outputs": [
    {
     "name": "stderr",
     "output_type": "stream",
     "text": [
      "C:\\Users\\The_Ghost\\Anaconda3\\lib\\site-packages\\pandas\\compat\\_optional.py:138: UserWarning: Pandas requires version '2.7.0' or newer of 'numexpr' (version '2.6.8' currently installed).\n",
      "  warnings.warn(msg, UserWarning)\n"
     ]
    }
   ],
   "source": [
    "import tensorflow as tens\n",
    "from keras.models import load_model\n",
    "import numpy as np\n",
    "from keras.utils.generic_utils import get_custom_objects\n",
    "import pandas as pd\n",
    "# import required libraries\n",
    "import sounddevice as sd\n",
    "from scipy.io.wavfile import write\n",
    "import wavio as wv\n",
    "\n",
    "# The set of characters accepted in the transcription.\n",
    "characters = [x for x in \"abcdefghijklmnopqrstuvwxyz'?! \"]\n",
    "# Mapping characters to integers\n",
    "charTnum = tens.keras.layers.StringLookup(vocabulary=characters, oov_token=\"\")\n",
    "# Mapping integers back to original characters\n",
    "numTchar = tens.keras.layers.StringLookup(vocabulary=charTnum.get_vocabulary(), oov_token=\"\", invert=True)\n",
    "\n",
    "# An integer scalar Tensor. The window length in samples.\n",
    "frame_length = 256\n",
    "# An integer scalar Tensor. The number of samples to step.\n",
    "frame_step = 160\n",
    "# An integer scalar Tensor. The size of the FFT to apply.\n",
    "# If not provided, uses the smallest power of 2 enclosing frame_length.\n",
    "fft_length = 384\n",
    "\n",
    "batch_size = 2\n",
    "fname = ''\n",
    "data = [[fname, 'SPT']]\n",
    "#loss function\n",
    "def CTCLoss(y_true, y_pred):\n",
    "    # Compute the training-time loss value\n",
    "    batch_len = tens.cast(tens.shape(y_true)[0], dtype=\"int64\")\n",
    "    input_length = tens.cast(tens.shape(y_pred)[1], dtype=\"int64\")\n",
    "    label_length = tens.cast(tens.shape(y_true)[1], dtype=\"int64\")\n",
    "\n",
    "    input_length = input_length * tens.ones(shape=(batch_len, 1), dtype=\"int64\")\n",
    "    label_length = label_length * tens.ones(shape=(batch_len, 1), dtype=\"int64\")\n",
    "\n",
    "    loss = tens.keras.backend.ctc_batch_cost(y_true, y_pred, input_length, label_length)\n",
    "    return loss\n",
    "get_custom_objects().update({'CTCLoss': CTCLoss})\n",
    "model = load_model('final_model.hdf5', compile=True)"
   ]
  },
  {
   "cell_type": "code",
   "execution_count": 2,
   "metadata": {},
   "outputs": [],
   "source": [
    "######encoding wav file\n",
    "def Encode(wav_file):\n",
    "    ###########################################\n",
    "    ##  Process the Audio\n",
    "    ##########################################\n",
    "    # 1. Read wav file\n",
    "    file = tens.io.read_file(wav_file+'.wav')\n",
    "    # 2. Decode the wav file\n",
    "    audio, _ = tens.audio.decode_wav(file)\n",
    "    audio = tens.squeeze(audio, axis=-1)\n",
    "    # 3. Change type to float\n",
    "    audio = tens.cast(audio, tens.float32)\n",
    "    # 4. Get the spectrogram\n",
    "    spectrogram = tens.signal.stft(\n",
    "        audio, frame_length=frame_length, frame_step=frame_step, fft_length=fft_length\n",
    "    )\n",
    "    # 5. We only need the magnitude, which can be derived by applying tens.abs\n",
    "    spectrogram = tens.abs(spectrogram)\n",
    "    spectrogram = tens.math.pow(spectrogram, 0.5)\n",
    "    # 6. normalisation\n",
    "    means = tens.math.reduce_mean(spectrogram, 1, keepdims=True)\n",
    "    stddevs = tens.math.reduce_std(spectrogram, 1, keepdims=True)\n",
    "    spectrogram = (spectrogram - means) / (stddevs + 1e-10)\n",
    "    return spectrogram\n",
    "\n",
    "#model prediction\n",
    "def Predict(spectrogram):\n",
    "    data = [[fname, 'SPT']]\n",
    "    df = pd.DataFrame(data, columns=['file_name', 'normalized_transcription'])\n",
    "    speech = tens.data.Dataset.from_tensor_slices((list(df[\"file_name\"])))\n",
    "    speech = (speech.map(Encode, num_parallel_calls=tens.data.AUTOTUNE).padded_batch(batch_size)\n",
    "             .prefetch(buffer_size=tens.data.AUTOTUNE))\n",
    "    for string in speech:\n",
    "        result = model.predict(string)\n",
    "    return result\n",
    "\n",
    "def Decode(sample):\n",
    "    input_len = np.ones(sample.shape[0]) * sample.shape[1]\n",
    "    # Use greedy search. For complex tasks, you can use beam search\n",
    "    results = tens.keras.backend.ctc_decode(sample, input_length=input_len, greedy=True)[0][0]\n",
    "    # Iterate over the results and get back the text\n",
    "    output_text = []\n",
    "    for result in results:\n",
    "        result = tens.strings.reduce_join(numTchar(result)).numpy().decode(\"utf-8\")\n",
    "        output_text.append(result)\n",
    "    return output_text"
   ]
  },
  {
   "cell_type": "code",
   "execution_count": 3,
   "metadata": {},
   "outputs": [
    {
     "name": "stdout",
     "output_type": "stream",
     "text": [
      "WARNING:tensorflow:AutoGraph could not transform <function Encode at 0x0000020B73DC3950> and will run it as-is.\n",
      "Please report this to the TensorFlow team. When filing the bug, set the verbosity to 10 (on Linux, `export AUTOGRAPH_VERBOSITY=10`) and attach the full output.\n",
      "Cause: 'arguments' object has no attribute 'posonlyargs'\n",
      "To silence this warning, decorate the function with @tf.autograph.experimental.do_not_convert\n",
      "WARNING: AutoGraph could not transform <function Encode at 0x0000020B73DC3950> and will run it as-is.\n",
      "Please report this to the TensorFlow team. When filing the bug, set the verbosity to 10 (on Linux, `export AUTOGRAPH_VERBOSITY=10`) and attach the full output.\n",
      "Cause: 'arguments' object has no attribute 'posonlyargs'\n",
      "To silence this warning, decorate the function with @tf.autograph.experimental.do_not_convert\n",
      "WARNING:tensorflow:AutoGraph could not transform <function Model.make_predict_function.<locals>.predict_function at 0x0000020B73EFFB70> and will run it as-is.\n",
      "Please report this to the TensorFlow team. When filing the bug, set the verbosity to 10 (on Linux, `export AUTOGRAPH_VERBOSITY=10`) and attach the full output.\n",
      "Cause: 'arguments' object has no attribute 'posonlyargs'\n",
      "To silence this warning, decorate the function with @tf.autograph.experimental.do_not_convert\n",
      "WARNING: AutoGraph could not transform <function Model.make_predict_function.<locals>.predict_function at 0x0000020B73EFFB70> and will run it as-is.\n",
      "Please report this to the TensorFlow team. When filing the bug, set the verbosity to 10 (on Linux, `export AUTOGRAPH_VERBOSITY=10`) and attach the full output.\n",
      "Cause: 'arguments' object has no attribute 'posonlyargs'\n",
      "To silence this warning, decorate the function with @tf.autograph.experimental.do_not_convert\n",
      "1/1 [==============================] - 9s 9s/step\n"
     ]
    },
    {
     "data": {
      "text/plain": [
       "[\"report of the president's commission on the assassination of president kennedy the warren commission report by the president's commission on the assassination of president kennedy\"]"
      ]
     },
     "execution_count": 3,
     "metadata": {},
     "output_type": "execute_result"
    }
   ],
   "source": [
    "#could have led anyone to predict the outburst of violence which finally occurred.\n",
    "fname = 'LJ029-0001'\n",
    "Decode(Predict(Encode(fname)))"
   ]
  },
  {
   "cell_type": "code",
   "execution_count": null,
   "metadata": {},
   "outputs": [],
   "source": []
  }
 ],
 "metadata": {
  "kernelspec": {
   "display_name": "Python 3 (ipykernel)",
   "language": "python",
   "name": "python3"
  },
  "language_info": {
   "codemirror_mode": {
    "name": "ipython",
    "version": 3
   },
   "file_extension": ".py",
   "mimetype": "text/x-python",
   "name": "python",
   "nbconvert_exporter": "python",
   "pygments_lexer": "ipython3",
   "version": "3.9.13"
  }
 },
 "nbformat": 4,
 "nbformat_minor": 2
}
